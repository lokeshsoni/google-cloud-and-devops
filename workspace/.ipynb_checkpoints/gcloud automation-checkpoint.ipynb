{
 "cells": [
  {
   "cell_type": "code",
   "execution_count": 2,
   "metadata": {},
   "outputs": [
    {
     "data": {
      "text/plain": [
       "sys.version_info(major=3, minor=7, micro=0, releaselevel='final', serial=0)"
      ]
     },
     "execution_count": 2,
     "metadata": {},
     "output_type": "execute_result"
    }
   ],
   "source": [
    "import sys\n",
    "sys.version_info"
   ]
  },
  {
   "cell_type": "code",
   "execution_count": 3,
   "metadata": {
    "collapsed": false,
    "inputHidden": false,
    "outputHidden": false
   },
   "outputs": [],
   "source": [
    "import pandas as pd\n",
    "import subprocess"
   ]
  },
  {
   "cell_type": "code",
   "execution_count": 4,
   "metadata": {},
   "outputs": [],
   "source": [
    "def instances_group(data):\n",
    "    indices = [index for index, value in enumerate(data) if value == \"TERMINATED\" or value == \"RUNNING\"]\n",
    "    \n",
    "    start_index = 0\n",
    "    end_index = 0   \n",
    "    \n",
    "    chunks = []\n",
    "\n",
    "    for index, index_value in enumerate(indices):\n",
    "        end_index = index_value + 1\n",
    "        \n",
    "        instances = data[start_index:end_index]\n",
    "        instances.insert(3, False)\n",
    "        \n",
    "        if len(instances) == 6:\n",
    "            instances.insert(-1, \"UNASSIGNED\")\n",
    "        \n",
    "        chunks.append(instances)\n",
    "        start_index = end_index\n",
    "        \n",
    "    return chunks"
   ]
  },
  {
   "cell_type": "code",
   "execution_count": 5,
   "metadata": {},
   "outputs": [],
   "source": [
    "def get_instances():\n",
    "    cmd = \"gcloud compute instances list\"\n",
    "    \n",
    "    output = subprocess.check_output(cmd, shell=True)\n",
    "    output = output.decode(\"utf-8\")\n",
    "    output = output.split()\n",
    "    \n",
    "    columns = output[:7]\n",
    "    data = output[7:]\n",
    "    \n",
    "    chunks = instances_group(data)\n",
    "    instances = pd.DataFrame(chunks, columns=columns)\n",
    "    \n",
    "    return instances"
   ]
  },
  {
   "cell_type": "code",
   "execution_count": 6,
   "metadata": {},
   "outputs": [
    {
     "data": {
      "text/html": [
       "<div>\n",
       "<style scoped>\n",
       "    .dataframe tbody tr th:only-of-type {\n",
       "        vertical-align: middle;\n",
       "    }\n",
       "\n",
       "    .dataframe tbody tr th {\n",
       "        vertical-align: top;\n",
       "    }\n",
       "\n",
       "    .dataframe thead th {\n",
       "        text-align: right;\n",
       "    }\n",
       "</style>\n",
       "<table border=\"1\" class=\"dataframe\">\n",
       "  <thead>\n",
       "    <tr style=\"text-align: right;\">\n",
       "      <th></th>\n",
       "      <th>NAME</th>\n",
       "      <th>ZONE</th>\n",
       "      <th>MACHINE_TYPE</th>\n",
       "      <th>PREEMPTIBLE</th>\n",
       "      <th>INTERNAL_IP</th>\n",
       "      <th>EXTERNAL_IP</th>\n",
       "      <th>STATUS</th>\n",
       "    </tr>\n",
       "  </thead>\n",
       "  <tbody>\n",
       "    <tr>\n",
       "      <th>0</th>\n",
       "      <td>fastai-k80-vm</td>\n",
       "      <td>asia-east1-b</td>\n",
       "      <td>n1-standard-4</td>\n",
       "      <td>False</td>\n",
       "      <td>10.140.0.2</td>\n",
       "      <td>UNASSIGNED</td>\n",
       "      <td>TERMINATED</td>\n",
       "    </tr>\n",
       "    <tr>\n",
       "      <th>1</th>\n",
       "      <td>fastai-courses</td>\n",
       "      <td>us-east1-c</td>\n",
       "      <td>n1-standard-4</td>\n",
       "      <td>False</td>\n",
       "      <td>10.142.0.2</td>\n",
       "      <td>UNASSIGNED</td>\n",
       "      <td>TERMINATED</td>\n",
       "    </tr>\n",
       "    <tr>\n",
       "      <th>2</th>\n",
       "      <td>fastai-micro-vm</td>\n",
       "      <td>us-west1-b</td>\n",
       "      <td>n1-standard-1</td>\n",
       "      <td>False</td>\n",
       "      <td>10.138.0.2</td>\n",
       "      <td>UNASSIGNED</td>\n",
       "      <td>TERMINATED</td>\n",
       "    </tr>\n",
       "  </tbody>\n",
       "</table>\n",
       "</div>"
      ],
      "text/plain": [
       "              NAME          ZONE   MACHINE_TYPE  PREEMPTIBLE INTERNAL_IP  \\\n",
       "0    fastai-k80-vm  asia-east1-b  n1-standard-4        False  10.140.0.2   \n",
       "1   fastai-courses    us-east1-c  n1-standard-4        False  10.142.0.2   \n",
       "2  fastai-micro-vm    us-west1-b  n1-standard-1        False  10.138.0.2   \n",
       "\n",
       "  EXTERNAL_IP      STATUS  \n",
       "0  UNASSIGNED  TERMINATED  \n",
       "1  UNASSIGNED  TERMINATED  \n",
       "2  UNASSIGNED  TERMINATED  "
      ]
     },
     "execution_count": 6,
     "metadata": {},
     "output_type": "execute_result"
    }
   ],
   "source": [
    "instances = get_instances()\n",
    "instances"
   ]
  },
  {
   "cell_type": "code",
   "execution_count": 7,
   "metadata": {},
   "outputs": [
    {
     "data": {
      "text/html": [
       "<div>\n",
       "<style scoped>\n",
       "    .dataframe tbody tr th:only-of-type {\n",
       "        vertical-align: middle;\n",
       "    }\n",
       "\n",
       "    .dataframe tbody tr th {\n",
       "        vertical-align: top;\n",
       "    }\n",
       "\n",
       "    .dataframe thead th {\n",
       "        text-align: right;\n",
       "    }\n",
       "</style>\n",
       "<table border=\"1\" class=\"dataframe\">\n",
       "  <thead>\n",
       "    <tr style=\"text-align: right;\">\n",
       "      <th></th>\n",
       "      <th>NAME</th>\n",
       "      <th>ZONE</th>\n",
       "      <th>MACHINE_TYPE</th>\n",
       "      <th>PREEMPTIBLE</th>\n",
       "      <th>INTERNAL_IP</th>\n",
       "      <th>EXTERNAL_IP</th>\n",
       "      <th>STATUS</th>\n",
       "    </tr>\n",
       "  </thead>\n",
       "  <tbody>\n",
       "  </tbody>\n",
       "</table>\n",
       "</div>"
      ],
      "text/plain": [
       "Empty DataFrame\n",
       "Columns: [NAME, ZONE, MACHINE_TYPE, PREEMPTIBLE, INTERNAL_IP, EXTERNAL_IP, STATUS]\n",
       "Index: []"
      ]
     },
     "execution_count": 7,
     "metadata": {},
     "output_type": "execute_result"
    }
   ],
   "source": [
    "running_vms = instances[instances[\"STATUS\"] == \"RUNNING\"]\n",
    "running_vms"
   ]
  },
  {
   "cell_type": "code",
   "execution_count": 8,
   "metadata": {},
   "outputs": [
    {
     "data": {
      "text/html": [
       "<div>\n",
       "<style scoped>\n",
       "    .dataframe tbody tr th:only-of-type {\n",
       "        vertical-align: middle;\n",
       "    }\n",
       "\n",
       "    .dataframe tbody tr th {\n",
       "        vertical-align: top;\n",
       "    }\n",
       "\n",
       "    .dataframe thead th {\n",
       "        text-align: right;\n",
       "    }\n",
       "</style>\n",
       "<table border=\"1\" class=\"dataframe\">\n",
       "  <thead>\n",
       "    <tr style=\"text-align: right;\">\n",
       "      <th></th>\n",
       "      <th>NAME</th>\n",
       "      <th>ZONE</th>\n",
       "      <th>MACHINE_TYPE</th>\n",
       "      <th>PREEMPTIBLE</th>\n",
       "      <th>INTERNAL_IP</th>\n",
       "      <th>EXTERNAL_IP</th>\n",
       "      <th>STATUS</th>\n",
       "    </tr>\n",
       "  </thead>\n",
       "  <tbody>\n",
       "    <tr>\n",
       "      <th>0</th>\n",
       "      <td>fastai-k80-vm</td>\n",
       "      <td>asia-east1-b</td>\n",
       "      <td>n1-standard-4</td>\n",
       "      <td>False</td>\n",
       "      <td>10.140.0.2</td>\n",
       "      <td>UNASSIGNED</td>\n",
       "      <td>TERMINATED</td>\n",
       "    </tr>\n",
       "    <tr>\n",
       "      <th>1</th>\n",
       "      <td>fastai-courses</td>\n",
       "      <td>us-east1-c</td>\n",
       "      <td>n1-standard-4</td>\n",
       "      <td>False</td>\n",
       "      <td>10.142.0.2</td>\n",
       "      <td>UNASSIGNED</td>\n",
       "      <td>TERMINATED</td>\n",
       "    </tr>\n",
       "    <tr>\n",
       "      <th>2</th>\n",
       "      <td>fastai-micro-vm</td>\n",
       "      <td>us-west1-b</td>\n",
       "      <td>n1-standard-1</td>\n",
       "      <td>False</td>\n",
       "      <td>10.138.0.2</td>\n",
       "      <td>UNASSIGNED</td>\n",
       "      <td>TERMINATED</td>\n",
       "    </tr>\n",
       "  </tbody>\n",
       "</table>\n",
       "</div>"
      ],
      "text/plain": [
       "              NAME          ZONE   MACHINE_TYPE  PREEMPTIBLE INTERNAL_IP  \\\n",
       "0    fastai-k80-vm  asia-east1-b  n1-standard-4        False  10.140.0.2   \n",
       "1   fastai-courses    us-east1-c  n1-standard-4        False  10.142.0.2   \n",
       "2  fastai-micro-vm    us-west1-b  n1-standard-1        False  10.138.0.2   \n",
       "\n",
       "  EXTERNAL_IP      STATUS  \n",
       "0  UNASSIGNED  TERMINATED  \n",
       "1  UNASSIGNED  TERMINATED  \n",
       "2  UNASSIGNED  TERMINATED  "
      ]
     },
     "execution_count": 8,
     "metadata": {},
     "output_type": "execute_result"
    }
   ],
   "source": [
    "terminated_vms = instances[instances[\"STATUS\"] == \"TERMINATED\"]\n",
    "terminated_vms"
   ]
  },
  {
   "cell_type": "code",
   "execution_count": 9,
   "metadata": {},
   "outputs": [
    {
     "data": {
      "text/plain": [
       "{0: 'fastai-k80-vm', 1: 'fastai-courses', 2: 'fastai-micro-vm'}"
      ]
     },
     "execution_count": 9,
     "metadata": {},
     "output_type": "execute_result"
    }
   ],
   "source": [
    "instances_names = list(terminated_vms[\"NAME\"].values)\n",
    "instances_names = {index : instance_name for index, instance_name in enumerate(instances_names)}\n",
    "instances_names"
   ]
  },
  {
   "cell_type": "code",
   "execution_count": 10,
   "metadata": {},
   "outputs": [
    {
     "name": "stdout",
     "output_type": "stream",
     "text": [
      "0 fastai-k80-vm\n",
      "1 fastai-courses\n",
      "2 fastai-micro-vm\n"
     ]
    }
   ],
   "source": [
    "for index in instances_names:\n",
    "    print(index, instances_names[index])"
   ]
  },
  {
   "cell_type": "code",
   "execution_count": null,
   "metadata": {},
   "outputs": [],
   "source": []
  }
 ],
 "metadata": {
  "kernel_info": {
   "name": "workspace"
  },
  "kernelspec": {
   "display_name": "Python 3",
   "language": "python",
   "name": "python3"
  },
  "language_info": {
   "codemirror_mode": {
    "name": "ipython",
    "version": 3
   },
   "file_extension": ".py",
   "mimetype": "text/x-python",
   "name": "python",
   "nbconvert_exporter": "python",
   "pygments_lexer": "ipython3",
   "version": "3.7.0"
  },
  "nteract": {
   "version": "0.12.3"
  }
 },
 "nbformat": 4,
 "nbformat_minor": 4
}
